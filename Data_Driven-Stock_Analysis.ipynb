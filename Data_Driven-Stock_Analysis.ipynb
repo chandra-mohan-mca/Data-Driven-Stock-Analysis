{
 "cells": [
  {
   "cell_type": "code",
   "execution_count": 41,
   "id": "5301da6d-75cf-432a-94b9-13a2a08b9653",
   "metadata": {},
   "outputs": [],
   "source": [
    "#import Necessary Packages \n",
    "\n",
    "import os\n",
    "import yaml\n",
    "import pandas as pd\n",
    "import os\n",
    "from matplotlib import pyplot as plt\n",
    "import seaborn as sns"
   ]
  },
  {
   "cell_type": "code",
   "execution_count": 4,
   "id": "1718cc5e-9e81-4219-a1e1-ddc74b45c7cc",
   "metadata": {},
   "outputs": [],
   "source": [
    "#Extract YAML data organized by months and transform it into CSV files for each symbol.\n",
    "#2023-10\n",
    "\n",
    "yml_folder=r\"H:\\GUVI_FILES\\Stack_Analysis\"\n",
    "output_folder=r\"H:\\GUVI_FILES\\Output_Stack_Analysis\"\n",
    "month_path=r\"H:\\GUVI_FILES\\Stack_Analysis\\2023-11\"\n",
    "file_path=r\"H:\\GUVI_FILES\\Stack_Analysis\\2023-11\\2023-11-01_05-30-00.yaml\""
   ]
  },
  {
   "cell_type": "code",
   "execution_count": 6,
   "id": "24cc478e-db8d-40c5-9dd8-4b0e2a15fb5b",
   "metadata": {},
   "outputs": [
    {
     "name": "stdout",
     "output_type": "stream",
     "text": [
      "CSV files saved in H:\\GUVI_FILES\\Output_Stack_Analysis\n"
     ]
    }
   ],
   "source": [
    "\n",
    "\n",
    "def extract_transform_yml_to_csv(yml_folder, output_folder):\n",
    "    if not os.path.exists(output_folder):\n",
    "        os.makedirs(output_folder)\n",
    "\n",
    "    for month_folder in os.listdir(yml_folder):\n",
    "        month_path = os.path.join(yml_folder, month_folder)\n",
    "        if os.path.isdir(month_path):\n",
    "            for yml_file in os.listdir(month_path):\n",
    "                file_path = os.path.join(month_path, yml_file)\n",
    "                with open(file_path, 'r') as file:\n",
    "                    data = yaml.safe_load(file)\n",
    "\n",
    "                    # Assume `data` is organized by symbols\n",
    "                    for record in data:\n",
    "                        symbol = record.get('symbol', 'Stack_data')\n",
    "                        symbol_file = os.path.join(output_folder, f\"{symbol}.csv\")\n",
    "    \n",
    "                        symbol_df = pd.DataFrame([record])  # wrap single record in list\n",
    "                        symbol_df.to_csv(symbol_file, mode='a', header=not os.path.exists(symbol_file), index=False)\n",
    "\n",
    "\n",
    "    print(f\"CSV files saved in {output_folder}\")\n",
    "\n",
    "extract_transform_yml_to_csv(yml_folder,output_folder)"
   ]
  },
  {
   "cell_type": "code",
   "execution_count": 31,
   "id": "592e9064-c07e-45be-a3cc-70473466223e",
   "metadata": {},
   "outputs": [
    {
     "data": {
      "text/html": [
       "<div>\n",
       "<style scoped>\n",
       "    .dataframe tbody tr th:only-of-type {\n",
       "        vertical-align: middle;\n",
       "    }\n",
       "\n",
       "    .dataframe tbody tr th {\n",
       "        vertical-align: top;\n",
       "    }\n",
       "\n",
       "    .dataframe thead th {\n",
       "        text-align: right;\n",
       "    }\n",
       "</style>\n",
       "<table border=\"1\" class=\"dataframe\">\n",
       "  <thead>\n",
       "    <tr style=\"text-align: right;\">\n",
       "      <th></th>\n",
       "      <th>Ticker</th>\n",
       "      <th>close</th>\n",
       "      <th>date</th>\n",
       "      <th>high</th>\n",
       "      <th>low</th>\n",
       "      <th>month</th>\n",
       "      <th>open</th>\n",
       "      <th>volume</th>\n",
       "    </tr>\n",
       "  </thead>\n",
       "  <tbody>\n",
       "    <tr>\n",
       "      <th>0</th>\n",
       "      <td>SBIN</td>\n",
       "      <td>566.40</td>\n",
       "      <td>2023-11-01 05:30:00</td>\n",
       "      <td>569.65</td>\n",
       "      <td>563.85</td>\n",
       "      <td>2023-11</td>\n",
       "      <td>566.25</td>\n",
       "      <td>13575575</td>\n",
       "    </tr>\n",
       "    <tr>\n",
       "      <th>1</th>\n",
       "      <td>BAJFINANCE</td>\n",
       "      <td>7471.90</td>\n",
       "      <td>2023-11-01 05:30:00</td>\n",
       "      <td>7549.00</td>\n",
       "      <td>7457.65</td>\n",
       "      <td>2023-11</td>\n",
       "      <td>7520.00</td>\n",
       "      <td>462778</td>\n",
       "    </tr>\n",
       "    <tr>\n",
       "      <th>2</th>\n",
       "      <td>TITAN</td>\n",
       "      <td>3173.40</td>\n",
       "      <td>2023-11-01 05:30:00</td>\n",
       "      <td>3212.90</td>\n",
       "      <td>3168.35</td>\n",
       "      <td>2023-11</td>\n",
       "      <td>3193.85</td>\n",
       "      <td>756820</td>\n",
       "    </tr>\n",
       "    <tr>\n",
       "      <th>3</th>\n",
       "      <td>ITC</td>\n",
       "      <td>428.10</td>\n",
       "      <td>2023-11-01 05:30:00</td>\n",
       "      <td>431.10</td>\n",
       "      <td>425.50</td>\n",
       "      <td>2023-11</td>\n",
       "      <td>430.00</td>\n",
       "      <td>7990245</td>\n",
       "    </tr>\n",
       "    <tr>\n",
       "      <th>4</th>\n",
       "      <td>TCS</td>\n",
       "      <td>3330.65</td>\n",
       "      <td>2023-11-01 05:30:00</td>\n",
       "      <td>3371.60</td>\n",
       "      <td>3311.00</td>\n",
       "      <td>2023-11</td>\n",
       "      <td>3355.00</td>\n",
       "      <td>1563475</td>\n",
       "    </tr>\n",
       "  </tbody>\n",
       "</table>\n",
       "</div>"
      ],
      "text/plain": [
       "       Ticker    close                 date     high      low    month  \\\n",
       "0        SBIN   566.40  2023-11-01 05:30:00   569.65   563.85  2023-11   \n",
       "1  BAJFINANCE  7471.90  2023-11-01 05:30:00  7549.00  7457.65  2023-11   \n",
       "2       TITAN  3173.40  2023-11-01 05:30:00  3212.90  3168.35  2023-11   \n",
       "3         ITC   428.10  2023-11-01 05:30:00   431.10   425.50  2023-11   \n",
       "4         TCS  3330.65  2023-11-01 05:30:00  3371.60  3311.00  2023-11   \n",
       "\n",
       "      open    volume  \n",
       "0   566.25  13575575  \n",
       "1  7520.00    462778  \n",
       "2  3193.85    756820  \n",
       "3   430.00   7990245  \n",
       "4  3355.00   1563475  "
      ]
     },
     "execution_count": 31,
     "metadata": {},
     "output_type": "execute_result"
    }
   ],
   "source": [
    "data=pd.read_csv('Stack_data.csv')\n",
    "data.head()"
   ]
  },
  {
   "cell_type": "code",
   "execution_count": 35,
   "id": "0e43e743-2fa0-435c-9ce8-d8f1e56692b7",
   "metadata": {},
   "outputs": [
    {
     "data": {
      "text/plain": [
       "(13200, 8)"
      ]
     },
     "execution_count": 35,
     "metadata": {},
     "output_type": "execute_result"
    }
   ],
   "source": [
    "data.shape"
   ]
  },
  {
   "cell_type": "code",
   "execution_count": 37,
   "id": "64752310-690e-4246-9292-d0969df21526",
   "metadata": {},
   "outputs": [
    {
     "name": "stdout",
     "output_type": "stream",
     "text": [
      "<class 'pandas.core.frame.DataFrame'>\n",
      "RangeIndex: 13200 entries, 0 to 13199\n",
      "Data columns (total 8 columns):\n",
      " #   Column  Non-Null Count  Dtype  \n",
      "---  ------  --------------  -----  \n",
      " 0   Ticker  13200 non-null  object \n",
      " 1   close   13200 non-null  float64\n",
      " 2   date    13200 non-null  object \n",
      " 3   high    13200 non-null  float64\n",
      " 4   low     13200 non-null  float64\n",
      " 5   month   13200 non-null  object \n",
      " 6   open    13200 non-null  float64\n",
      " 7   volume  13200 non-null  int64  \n",
      "dtypes: float64(4), int64(1), object(3)\n",
      "memory usage: 825.1+ KB\n"
     ]
    }
   ],
   "source": [
    "data.info()"
   ]
  },
  {
   "cell_type": "code",
   "execution_count": 39,
   "id": "ad8603d2-54fa-4c05-bd12-e34b7f4dda36",
   "metadata": {},
   "outputs": [
    {
     "data": {
      "text/plain": [
       "Ticker    0\n",
       "close     0\n",
       "date      0\n",
       "high      0\n",
       "low       0\n",
       "month     0\n",
       "open      0\n",
       "volume    0\n",
       "dtype: int64"
      ]
     },
     "execution_count": 39,
     "metadata": {},
     "output_type": "execute_result"
    }
   ],
   "source": [
    "data.isnull().sum()"
   ]
  },
  {
   "cell_type": "code",
   "execution_count": 41,
   "id": "a4152b44-d1ad-4948-bdff-98824a28bba3",
   "metadata": {},
   "outputs": [
    {
     "data": {
      "text/html": [
       "<div>\n",
       "<style scoped>\n",
       "    .dataframe tbody tr th:only-of-type {\n",
       "        vertical-align: middle;\n",
       "    }\n",
       "\n",
       "    .dataframe tbody tr th {\n",
       "        vertical-align: top;\n",
       "    }\n",
       "\n",
       "    .dataframe thead th {\n",
       "        text-align: right;\n",
       "    }\n",
       "</style>\n",
       "<table border=\"1\" class=\"dataframe\">\n",
       "  <thead>\n",
       "    <tr style=\"text-align: right;\">\n",
       "      <th></th>\n",
       "      <th>close</th>\n",
       "      <th>high</th>\n",
       "      <th>low</th>\n",
       "      <th>open</th>\n",
       "      <th>volume</th>\n",
       "    </tr>\n",
       "  </thead>\n",
       "  <tbody>\n",
       "    <tr>\n",
       "      <th>count</th>\n",
       "      <td>13200.000000</td>\n",
       "      <td>13200.000000</td>\n",
       "      <td>13200.000000</td>\n",
       "      <td>13200.000000</td>\n",
       "      <td>1.320000e+04</td>\n",
       "    </tr>\n",
       "    <tr>\n",
       "      <th>mean</th>\n",
       "      <td>2481.589733</td>\n",
       "      <td>2509.236131</td>\n",
       "      <td>2453.862477</td>\n",
       "      <td>2483.109058</td>\n",
       "      <td>6.997735e+06</td>\n",
       "    </tr>\n",
       "    <tr>\n",
       "      <th>std</th>\n",
       "      <td>2600.302007</td>\n",
       "      <td>2628.638698</td>\n",
       "      <td>2571.281511</td>\n",
       "      <td>2601.693872</td>\n",
       "      <td>1.158727e+07</td>\n",
       "    </tr>\n",
       "    <tr>\n",
       "      <th>min</th>\n",
       "      <td>116.600000</td>\n",
       "      <td>118.550000</td>\n",
       "      <td>114.600000</td>\n",
       "      <td>114.600000</td>\n",
       "      <td>5.987000e+03</td>\n",
       "    </tr>\n",
       "    <tr>\n",
       "      <th>25%</th>\n",
       "      <td>834.425000</td>\n",
       "      <td>844.312500</td>\n",
       "      <td>823.675000</td>\n",
       "      <td>836.750000</td>\n",
       "      <td>9.688152e+05</td>\n",
       "    </tr>\n",
       "    <tr>\n",
       "      <th>50%</th>\n",
       "      <td>1518.975000</td>\n",
       "      <td>1534.225000</td>\n",
       "      <td>1503.625000</td>\n",
       "      <td>1520.050000</td>\n",
       "      <td>2.484116e+06</td>\n",
       "    </tr>\n",
       "    <tr>\n",
       "      <th>75%</th>\n",
       "      <td>3133.062500</td>\n",
       "      <td>3174.662500</td>\n",
       "      <td>3095.725000</td>\n",
       "      <td>3139.962500</td>\n",
       "      <td>8.788930e+06</td>\n",
       "    </tr>\n",
       "    <tr>\n",
       "      <th>max</th>\n",
       "      <td>13495.600000</td>\n",
       "      <td>13680.000000</td>\n",
       "      <td>13274.450000</td>\n",
       "      <td>13393.000000</td>\n",
       "      <td>2.680527e+08</td>\n",
       "    </tr>\n",
       "  </tbody>\n",
       "</table>\n",
       "</div>"
      ],
      "text/plain": [
       "              close          high           low          open        volume\n",
       "count  13200.000000  13200.000000  13200.000000  13200.000000  1.320000e+04\n",
       "mean    2481.589733   2509.236131   2453.862477   2483.109058  6.997735e+06\n",
       "std     2600.302007   2628.638698   2571.281511   2601.693872  1.158727e+07\n",
       "min      116.600000    118.550000    114.600000    114.600000  5.987000e+03\n",
       "25%      834.425000    844.312500    823.675000    836.750000  9.688152e+05\n",
       "50%     1518.975000   1534.225000   1503.625000   1520.050000  2.484116e+06\n",
       "75%     3133.062500   3174.662500   3095.725000   3139.962500  8.788930e+06\n",
       "max    13495.600000  13680.000000  13274.450000  13393.000000  2.680527e+08"
      ]
     },
     "execution_count": 41,
     "metadata": {},
     "output_type": "execute_result"
    }
   ],
   "source": [
    "data.describe()"
   ]
  },
  {
   "cell_type": "code",
   "execution_count": 47,
   "id": "902a4dbf-3247-4677-b4c2-c92f7deaa3cc",
   "metadata": {},
   "outputs": [
    {
     "data": {
      "text/plain": [
       "Ticker\n",
       "ADANIENT       1174\n",
       "ADANIPORTS     7325\n",
       "APOLLOHOSP     6070\n",
       "ASIANPAINT    12832\n",
       "AXISBANK       5997\n",
       "BAJAJ-AUTO    11999\n",
       "BAJAJFINSV    10277\n",
       "BAJFINANCE     6201\n",
       "BEL            7326\n",
       "BHARTIARTL     7914\n",
       "BPCL           3242\n",
       "BRITANNIA      6293\n",
       "CIPLA         12491\n",
       "COALINDIA      6229\n",
       "DRREDDY        8135\n",
       "EICHERMOT      4878\n",
       "GRASIM         8122\n",
       "HCLTECH        6058\n",
       "HDFCBANK      10348\n",
       "HDFCLIFE       7684\n",
       "HEROMOTOCO     6446\n",
       "HINDALCO       3595\n",
       "HINDUNILVR     7369\n",
       "ICICIBANK     11073\n",
       "INDUSINDBK    12281\n",
       "INFY           7212\n",
       "ITC            4603\n",
       "JSWSTEEL      11059\n",
       "KOTAKBANK      5987\n",
       "LT             6405\n",
       "M&M            4471\n",
       "MARUTI        10330\n",
       "NESTLEIND      1689\n",
       "NTPC           7318\n",
       "ONGC           5690\n",
       "POWERGRID      7311\n",
       "RELIANCE      10307\n",
       "SBILIFE        9094\n",
       "SBIN           7300\n",
       "SHRIRAMFIN     5088\n",
       "SUNPHARMA      6936\n",
       "TATACONSUM    12056\n",
       "TATAMOTORS     4365\n",
       "TATASTEEL      4783\n",
       "TCS            8654\n",
       "TECHM          6017\n",
       "TITAN          8952\n",
       "TRENT         11313\n",
       "ULTRACEMCO     8110\n",
       "WIPRO          2566\n",
       "Name: volume, dtype: int64"
      ]
     },
     "execution_count": 47,
     "metadata": {},
     "output_type": "execute_result"
    }
   ],
   "source": [
    "data.groupby('Ticker')['volume'].idxmax()"
   ]
  },
  {
   "cell_type": "code",
   "execution_count": 49,
   "id": "424a6fdd-e6b0-4d03-af6a-ca637c335275",
   "metadata": {},
   "outputs": [
    {
     "data": {
      "text/plain": [
       "Ticker                    BEL\n",
       "close                  255.55\n",
       "date      2024-06-04 05:30:00\n",
       "high                    312.0\n",
       "low                    230.05\n",
       "month                 2024-06\n",
       "open                    312.0\n",
       "volume              268052657\n",
       "Name: 7326, dtype: object"
      ]
     },
     "execution_count": 49,
     "metadata": {},
     "output_type": "execute_result"
    }
   ],
   "source": [
    "data.loc[data['volume'].idxmax()]"
   ]
  },
  {
   "cell_type": "code",
   "execution_count": 17,
   "id": "2b4cb287-2989-465b-86a2-709c583d6495",
   "metadata": {},
   "outputs": [
    {
     "name": "stdout",
     "output_type": "stream",
     "text": [
      "Ticker-wise CSV files saved in 'ticker_files' folder.\n"
     ]
    }
   ],
   "source": [
    "\n",
    "# Load the main dataset\n",
    "df = pd.read_csv(\"Stack_data.csv\")  # Replace with your actual file path\n",
    "\n",
    "# Create a folder to save split files\n",
    "os.makedirs(\"Sticker_wise\", exist_ok=True)\n",
    "\n",
    "# Split and save each ticker\n",
    "for ticker, data in df.groupby(\"Ticker\"):\n",
    "    data.to_csv(f\"Sticker_wise/{ticker}.csv\", index=False)\n",
    "\n",
    "print(\"Ticker-wise CSV files saved in 'ticker_files' folder.\")\n"
   ]
  },
  {
   "cell_type": "code",
   "execution_count": 23,
   "id": "11096566-88c9-49c4-bd60-abf9e6002b10",
   "metadata": {},
   "outputs": [
    {
     "data": {
      "text/html": [
       "<div>\n",
       "<style scoped>\n",
       "    .dataframe tbody tr th:only-of-type {\n",
       "        vertical-align: middle;\n",
       "    }\n",
       "\n",
       "    .dataframe tbody tr th {\n",
       "        vertical-align: top;\n",
       "    }\n",
       "\n",
       "    .dataframe thead th {\n",
       "        text-align: right;\n",
       "    }\n",
       "</style>\n",
       "<table border=\"1\" class=\"dataframe\">\n",
       "  <thead>\n",
       "    <tr style=\"text-align: right;\">\n",
       "      <th></th>\n",
       "      <th>Ticker</th>\n",
       "      <th>close</th>\n",
       "      <th>date</th>\n",
       "      <th>high</th>\n",
       "      <th>low</th>\n",
       "      <th>month</th>\n",
       "      <th>open</th>\n",
       "      <th>volume</th>\n",
       "    </tr>\n",
       "  </thead>\n",
       "  <tbody>\n",
       "    <tr>\n",
       "      <th>259</th>\n",
       "      <td>ADANIENT</td>\n",
       "      <td>2826.80</td>\n",
       "      <td>2024-11-14 05:30:00</td>\n",
       "      <td>2844.80</td>\n",
       "      <td>2801.00</td>\n",
       "      <td>2024-11</td>\n",
       "      <td>2824.00</td>\n",
       "      <td>646797</td>\n",
       "    </tr>\n",
       "    <tr>\n",
       "      <th>260</th>\n",
       "      <td>ADANIENT</td>\n",
       "      <td>2818.70</td>\n",
       "      <td>2024-11-18 05:30:00</td>\n",
       "      <td>2858.65</td>\n",
       "      <td>2793.30</td>\n",
       "      <td>2024-11</td>\n",
       "      <td>2826.80</td>\n",
       "      <td>489692</td>\n",
       "    </tr>\n",
       "    <tr>\n",
       "      <th>261</th>\n",
       "      <td>ADANIENT</td>\n",
       "      <td>2821.50</td>\n",
       "      <td>2024-11-19 05:30:00</td>\n",
       "      <td>2894.80</td>\n",
       "      <td>2809.80</td>\n",
       "      <td>2024-11</td>\n",
       "      <td>2831.00</td>\n",
       "      <td>536296</td>\n",
       "    </tr>\n",
       "    <tr>\n",
       "      <th>262</th>\n",
       "      <td>ADANIENT</td>\n",
       "      <td>2183.65</td>\n",
       "      <td>2024-11-21 05:30:00</td>\n",
       "      <td>2539.35</td>\n",
       "      <td>2155.05</td>\n",
       "      <td>2024-11</td>\n",
       "      <td>2539.35</td>\n",
       "      <td>21796668</td>\n",
       "    </tr>\n",
       "    <tr>\n",
       "      <th>263</th>\n",
       "      <td>ADANIENT</td>\n",
       "      <td>2228.00</td>\n",
       "      <td>2024-11-22 05:30:00</td>\n",
       "      <td>2289.70</td>\n",
       "      <td>2025.00</td>\n",
       "      <td>2024-11</td>\n",
       "      <td>2101.00</td>\n",
       "      <td>20939196</td>\n",
       "    </tr>\n",
       "  </tbody>\n",
       "</table>\n",
       "</div>"
      ],
      "text/plain": [
       "       Ticker    close                 date     high      low    month  \\\n",
       "259  ADANIENT  2826.80  2024-11-14 05:30:00  2844.80  2801.00  2024-11   \n",
       "260  ADANIENT  2818.70  2024-11-18 05:30:00  2858.65  2793.30  2024-11   \n",
       "261  ADANIENT  2821.50  2024-11-19 05:30:00  2894.80  2809.80  2024-11   \n",
       "262  ADANIENT  2183.65  2024-11-21 05:30:00  2539.35  2155.05  2024-11   \n",
       "263  ADANIENT  2228.00  2024-11-22 05:30:00  2289.70  2025.00  2024-11   \n",
       "\n",
       "        open    volume  \n",
       "259  2824.00    646797  \n",
       "260  2826.80    489692  \n",
       "261  2831.00    536296  \n",
       "262  2539.35  21796668  \n",
       "263  2101.00  20939196  "
      ]
     },
     "execution_count": 23,
     "metadata": {},
     "output_type": "execute_result"
    }
   ],
   "source": [
    "adan=pd.read_csv('Sticker_wise/ADANIENT.csv')\n",
    "adan.tail()"
   ]
  },
  {
   "cell_type": "code",
   "execution_count": 29,
   "id": "429df826-fe1f-43e2-b9fc-1abc614abeb6",
   "metadata": {},
   "outputs": [
    {
     "data": {
      "text/plain": [
       "0"
      ]
     },
     "execution_count": 29,
     "metadata": {},
     "output_type": "execute_result"
    }
   ],
   "source": [
    "adan.duplicated().sum()"
   ]
  },
  {
   "cell_type": "code",
   "execution_count": 89,
   "id": "16675788-8167-4425-ad92-1a3f6bdc4dce",
   "metadata": {},
   "outputs": [],
   "source": []
  },
  {
   "cell_type": "code",
   "execution_count": null,
   "id": "895d9c4f-33c7-47cf-8c8f-35fe1b2f7354",
   "metadata": {},
   "outputs": [],
   "source": []
  },
  {
   "cell_type": "code",
   "execution_count": null,
   "id": "20673d57-ca30-4f9d-b86f-99b626c5ed5d",
   "metadata": {},
   "outputs": [],
   "source": [
    "\n"
   ]
  },
  {
   "cell_type": "code",
   "execution_count": null,
   "id": "4f12a8c4-b1af-4784-be9f-101b4ceda16f",
   "metadata": {},
   "outputs": [],
   "source": []
  },
  {
   "cell_type": "code",
   "execution_count": null,
   "id": "8a7a6f25-a660-4570-8c3d-5864bebcd2c5",
   "metadata": {},
   "outputs": [],
   "source": []
  },
  {
   "cell_type": "code",
   "execution_count": null,
   "id": "32b8cbda-3da4-4920-81f1-577c802bd892",
   "metadata": {},
   "outputs": [],
   "source": []
  },
  {
   "cell_type": "code",
   "execution_count": null,
   "id": "2f6b5a17-32c3-42ad-966b-7b0c1e2986a5",
   "metadata": {},
   "outputs": [],
   "source": []
  },
  {
   "cell_type": "code",
   "execution_count": null,
   "id": "98581e50-7491-4432-8547-8076ab855a4b",
   "metadata": {},
   "outputs": [],
   "source": []
  },
  {
   "cell_type": "code",
   "execution_count": null,
   "id": "3dde3f8e-35db-4a5a-ab97-a28658fd8892",
   "metadata": {},
   "outputs": [],
   "source": []
  },
  {
   "cell_type": "code",
   "execution_count": 95,
   "id": "5063e8ed-939f-4245-aad8-37fae5b139d5",
   "metadata": {},
   "outputs": [],
   "source": []
  },
  {
   "cell_type": "code",
   "execution_count": null,
   "id": "2601d59e-e6a6-453b-9d49-37e1460a5884",
   "metadata": {},
   "outputs": [],
   "source": []
  },
  {
   "cell_type": "code",
   "execution_count": null,
   "id": "a947b0ad-a249-4465-93a8-babbe585faf6",
   "metadata": {},
   "outputs": [],
   "source": []
  },
  {
   "cell_type": "code",
   "execution_count": null,
   "id": "a40bc727-2e72-47b9-8f82-e0b570825e55",
   "metadata": {},
   "outputs": [],
   "source": []
  },
  {
   "cell_type": "code",
   "execution_count": null,
   "id": "75f0e022-2331-42e4-bd14-2c8f32bee57d",
   "metadata": {},
   "outputs": [],
   "source": []
  },
  {
   "cell_type": "code",
   "execution_count": null,
   "id": "a7d6b325-7361-4c6e-a19b-940ad426b38f",
   "metadata": {},
   "outputs": [],
   "source": []
  },
  {
   "cell_type": "code",
   "execution_count": null,
   "id": "eb801424-7e59-460b-bcfe-92052929e409",
   "metadata": {},
   "outputs": [],
   "source": []
  },
  {
   "cell_type": "code",
   "execution_count": null,
   "id": "841f1d18-fcf0-4b34-9f46-6095a152e498",
   "metadata": {},
   "outputs": [],
   "source": []
  },
  {
   "cell_type": "code",
   "execution_count": null,
   "id": "08ee05d0-ff7a-469d-ba12-687f0a615cab",
   "metadata": {},
   "outputs": [],
   "source": []
  }
 ],
 "metadata": {
  "kernelspec": {
   "display_name": "Python 3 (ipykernel)",
   "language": "python",
   "name": "python3"
  },
  "language_info": {
   "codemirror_mode": {
    "name": "ipython",
    "version": 3
   },
   "file_extension": ".py",
   "mimetype": "text/x-python",
   "name": "python",
   "nbconvert_exporter": "python",
   "pygments_lexer": "ipython3",
   "version": "3.12.7"
  }
 },
 "nbformat": 4,
 "nbformat_minor": 5
}
